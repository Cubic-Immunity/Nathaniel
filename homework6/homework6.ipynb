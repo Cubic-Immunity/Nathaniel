{
 "cells": [
  {
   "cell_type": "markdown",
   "id": "8fcf6baa-8af9-49d7-81ce-609b385eb214",
   "metadata": {},
   "source": [
    "__Numpy Arrays__"
   ]
  },
  {
   "cell_type": "code",
   "execution_count": 1,
   "id": "74b1fd7a-f029-4dea-b875-89c2cddd8810",
   "metadata": {},
   "outputs": [],
   "source": [
    "import numpy as np"
   ]
  },
  {
   "cell_type": "markdown",
   "id": "02ed87a0-b2f0-4dcf-bd3c-2d5d51981730",
   "metadata": {},
   "source": [
    "__1D Numpy Arrays__"
   ]
  },
  {
   "cell_type": "code",
   "execution_count": 2,
   "id": "767f916d-5a42-403d-9e87-8df09d3285c1",
   "metadata": {},
   "outputs": [
    {
     "name": "stdout",
     "output_type": "stream",
     "text": [
      "[20, 27, 9, 12, 31, 17, 4, 50, 39, 35]\n",
      "[20 27  9 12 31 17  4 50 39 35]\n"
     ]
    }
   ],
   "source": [
    "list = [20, 27, 9, 12, 31, 17, 4, 50, 39, 35]\n",
    "print(list)\n",
    "\n",
    "arr = np.array(list)\n",
    "print(arr)"
   ]
  },
  {
   "cell_type": "code",
   "execution_count": 3,
   "id": "ab22296a-5f3d-4406-94a6-dc80d8684880",
   "metadata": {},
   "outputs": [
    {
     "name": "stdout",
     "output_type": "stream",
     "text": [
      "[ 80 108  36  48 124  68  16 200 156 140]\n"
     ]
    }
   ],
   "source": [
    "print(arr * 4)"
   ]
  },
  {
   "cell_type": "code",
   "execution_count": 4,
   "id": "8dca7dee-2785-49e5-a290-3e446defe50c",
   "metadata": {},
   "outputs": [
    {
     "name": "stdout",
     "output_type": "stream",
     "text": [
      "24.4\n"
     ]
    }
   ],
   "source": [
    "print(np.mean(arr))"
   ]
  },
  {
   "cell_type": "code",
   "execution_count": 5,
   "id": "55c0e2db-78d6-4274-adda-b3135fe285d3",
   "metadata": {},
   "outputs": [
    {
     "name": "stdout",
     "output_type": "stream",
     "text": [
      "23.5\n"
     ]
    }
   ],
   "source": [
    "print(np.median(arr))"
   ]
  },
  {
   "cell_type": "code",
   "execution_count": 6,
   "id": "41a6f2f8-131c-4ede-a034-1cab213ee646",
   "metadata": {},
   "outputs": [
    {
     "name": "stdout",
     "output_type": "stream",
     "text": [
      "13.828955130450023\n"
     ]
    }
   ],
   "source": [
    "print(np.std(arr))"
   ]
  },
  {
   "cell_type": "code",
   "execution_count": 7,
   "id": "19e4f473-746f-4049-8da2-e53ecc807d47",
   "metadata": {},
   "outputs": [
    {
     "name": "stdout",
     "output_type": "stream",
     "text": [
      "The index of the smallest number is 6\n",
      "The index of the largest number is 7\n"
     ]
    }
   ],
   "source": [
    "print(f\"The index of the smallest number is {np.argmin(arr)}\")\n",
    "print(f\"The index of the largest number is {np.argmax(arr)}\")"
   ]
  },
  {
   "cell_type": "code",
   "execution_count": 8,
   "id": "6fec9f29-60de-4966-8d26-aae6f4e81252",
   "metadata": {},
   "outputs": [
    {
     "name": "stdout",
     "output_type": "stream",
     "text": [
      "4\n",
      "50\n"
     ]
    }
   ],
   "source": [
    "print(arr[6])\n",
    "print(arr[7])"
   ]
  },
  {
   "cell_type": "code",
   "execution_count": 9,
   "id": "5d714cda-4c9e-4bc2-9b51-c574c21b63c9",
   "metadata": {},
   "outputs": [
    {
     "name": "stdout",
     "output_type": "stream",
     "text": [
      "The smallest number is 4\n",
      "The largest number is 50\n",
      "\n",
      "They match the numbers from the previous step\n"
     ]
    }
   ],
   "source": [
    "print(f\"The smallest number is {np.min(arr)}\")\n",
    "print(f\"The largest number is {np.max(arr)}\")\n",
    "\n",
    "print(\"\\nThey match the numbers from the previous step\")"
   ]
  },
  {
   "cell_type": "code",
   "execution_count": 10,
   "id": "43317820-398b-4ec8-9ee9-2d705dbbdbb7",
   "metadata": {},
   "outputs": [
    {
     "name": "stdout",
     "output_type": "stream",
     "text": [
      "[27 31 50 39 35]\n"
     ]
    }
   ],
   "source": [
    "new_arr = arr[arr > 20]\n",
    "print(new_arr)"
   ]
  },
  {
   "cell_type": "markdown",
   "id": "c10f2e8b-e7ad-4b79-9e8f-66f7a04aa79d",
   "metadata": {},
   "source": [
    "__2D Numpy Arrays__"
   ]
  },
  {
   "cell_type": "code",
   "execution_count": 11,
   "id": "a2fb4896-8a7a-43f2-a8ec-29c2ba65f659",
   "metadata": {},
   "outputs": [
    {
     "name": "stdout",
     "output_type": "stream",
     "text": [
      "(3, 4)\n"
     ]
    }
   ],
   "source": [
    "matrix = np.array([\n",
    "[5, 12, 17, 9],\n",
    "[8, 21, 14, 3],\n",
    "[6, 13, 19, 11]\n",
    "])\n",
    "print(np.shape(matrix))"
   ]
  },
  {
   "cell_type": "code",
   "execution_count": 12,
   "id": "f4035486-9c41-456e-abf6-54eedc60bbb8",
   "metadata": {},
   "outputs": [
    {
     "name": "stdout",
     "output_type": "stream",
     "text": [
      "Third column:\n",
      " [17 14 19]\n"
     ]
    }
   ],
   "source": [
    "print(\"Third column:\\n\", matrix[:, 2])"
   ]
  },
  {
   "cell_type": "code",
   "execution_count": 13,
   "id": "ece911d0-7f92-493e-9e2f-f54e55484090",
   "metadata": {},
   "outputs": [
    {
     "name": "stdout",
     "output_type": "stream",
     "text": [
      "Second row:\n",
      " [ 8 21 14  3]\n"
     ]
    }
   ],
   "source": [
    "print(\"Second row:\\n\", matrix[1, :])"
   ]
  },
  {
   "cell_type": "code",
   "execution_count": 14,
   "id": "9663e69c-2156-4433-915c-551dfcda2d7a",
   "metadata": {},
   "outputs": [
    {
     "name": "stdout",
     "output_type": "stream",
     "text": [
      "[[10 24 34 18]\n",
      " [16 42 28  6]\n",
      " [12 26 38 22]]\n"
     ]
    }
   ],
   "source": [
    "print(matrix * 2)"
   ]
  },
  {
   "cell_type": "code",
   "execution_count": 15,
   "id": "b3e42d03-22cf-4656-8ca5-b36567a41665",
   "metadata": {},
   "outputs": [
    {
     "name": "stdout",
     "output_type": "stream",
     "text": [
      "Mean of each column:\n",
      " [ 6.33333333 15.33333333 16.66666667  7.66666667]\n"
     ]
    }
   ],
   "source": [
    "print(\"Mean of each column:\\n\", np.mean(matrix, axis=0))"
   ]
  },
  {
   "cell_type": "code",
   "execution_count": 16,
   "id": "bc10dce8-6dc6-45bf-8191-5c7125aeeb2b",
   "metadata": {},
   "outputs": [
    {
     "name": "stdout",
     "output_type": "stream",
     "text": [
      "11.5\n"
     ]
    }
   ],
   "source": [
    "print(np.mean(matrix))"
   ]
  },
  {
   "cell_type": "code",
   "execution_count": 17,
   "id": "c2e6dabf-e5c7-45d4-8215-575b5bab3dc9",
   "metadata": {},
   "outputs": [
    {
     "name": "stdout",
     "output_type": "stream",
     "text": [
      "The max value in each row:\n",
      "[17 21 19]\n",
      "The minimum value in each column:\n",
      "[ 5 12 14  3]\n"
     ]
    }
   ],
   "source": [
    "print(\n",
    "    f\"The max value in each row:\\n{np.max(matrix, axis=1)}\\n\"\n",
    "    f\"The minimum value in each column:\\n{np.min(matrix, axis=0)}\"\n",
    ")     "
   ]
  },
  {
   "cell_type": "code",
   "execution_count": 18,
   "id": "1b80b617-aabf-45c4-a389-aae0ac7acc40",
   "metadata": {},
   "outputs": [
    {
     "name": "stdout",
     "output_type": "stream",
     "text": [
      "[ 5 12 17  9  8 21 14  3  6 13 19 11]\n",
      "The new shape is (12,)\n",
      "What happened is that .flatten() turned our 2D array into a 1D array.\n"
     ]
    }
   ],
   "source": [
    "flattened = matrix.flatten()\n",
    "print(\n",
    "    f\"{flattened}\\nThe new shape is {np.shape(flattened)}\\nWhat happened is that .flatten() \"\n",
    "    \"turned our 2D array into a 1D array.\"\n",
    ")"
   ]
  },
  {
   "cell_type": "code",
   "execution_count": 19,
   "id": "67ebed45-5384-4219-a4bc-817b090519b8",
   "metadata": {},
   "outputs": [
    {
     "name": "stdout",
     "output_type": "stream",
     "text": [
      "The index of the smallest number is 7\n",
      "The index of the largest number is 5\n"
     ]
    }
   ],
   "source": [
    "flat_min_index = np.argmin(flattened)\n",
    "flat_max_index = np.argmax(flattened)\n",
    "print(f\"The index of the smallest number is {flat_min_index}\")\n",
    "print(f\"The index of the largest number is {flat_max_index}\")"
   ]
  },
  {
   "cell_type": "code",
   "execution_count": 20,
   "id": "bb181abb-e60e-48a6-b63d-c77fc25fef76",
   "metadata": {},
   "outputs": [
    {
     "name": "stdout",
     "output_type": "stream",
     "text": [
      "Row-column of smallest value: (1, 3)\n",
      "Row-column of largest value: (1, 1)\n"
     ]
    }
   ],
   "source": [
    "min_coords = np.unravel_index(flat_min_index, matrix.shape)\n",
    "max_coords = np.unravel_index(flat_max_index, matrix.shape)\n",
    "\n",
    "# Convert to regular int\n",
    "min_coords = tuple(int(x) for x in min_coords)\n",
    "max_coords = tuple(int(x) for x in max_coords)\n",
    "\n",
    "print(\"Row-column of smallest value:\", min_coords)\n",
    "print(\"Row-column of largest value:\", max_coords)"
   ]
  },
  {
   "cell_type": "code",
   "execution_count": 21,
   "id": "b4cc013e-372a-4dd3-9d6f-0d1c549440f8",
   "metadata": {},
   "outputs": [
    {
     "name": "stdout",
     "output_type": "stream",
     "text": [
      "New array with values greater than 15: [17 21 19]\n"
     ]
    }
   ],
   "source": [
    "greater_15 = matrix[matrix >15]\n",
    "print(f\"New array with values greater than 15: {greater_15}\")"
   ]
  },
  {
   "cell_type": "code",
   "execution_count": 22,
   "id": "2790ba55-91f8-44d3-bf82-6424363fec7c",
   "metadata": {},
   "outputs": [
    {
     "name": "stdout",
     "output_type": "stream",
     "text": [
      "Row-sorted array:\n",
      " [[ 5  9 12 17]\n",
      " [ 3  8 14 21]\n",
      " [ 6 11 13 19]]\n"
     ]
    }
   ],
   "source": [
    "print(f\"Row-sorted array:\\n {np.sort(matrix)}\")"
   ]
  },
  {
   "cell_type": "markdown",
   "id": "d19f6e63-7b5d-4afc-98f1-b62713497401",
   "metadata": {},
   "source": [
    "__Prime Star Systems__"
   ]
  },
  {
   "cell_type": "code",
   "execution_count": 23,
   "id": "598d2c66-0608-4d22-ba54-30d694bca218",
   "metadata": {},
   "outputs": [
    {
     "name": "stdout",
     "output_type": "stream",
     "text": [
      "Rows with at least one prime number:\n",
      " [[ 2  3  5]\n",
      " [11 13 17]\n",
      " [ 7 10 13]]\n"
     ]
    }
   ],
   "source": [
    "arr = np.array([\n",
    "[2, 3, 5],\n",
    "[14, 6, 8],\n",
    "[11, 13, 17],\n",
    "[7, 10, 13]\n",
    "])\n",
    "\n",
    "def is_prime(n):\n",
    "    \"\"\"Return True if n is a prime number.\"\"\"\n",
    "    if n < 2:\n",
    "        return False\n",
    "    for i in range(2, int(np.sqrt(n)) + 1):\n",
    "        if n % i == 0:\n",
    "            return False\n",
    "    return True\n",
    "\n",
    "def rows_with_prime(arr):\n",
    "    \"\"\"Return only the rows from array where at least one element is prime.\"\"\"\n",
    "    mask = [any(is_prime(x) for x in row) for row in arr]\n",
    "    return arr[mask]\n",
    "\n",
    "result = rows_with_prime(arr)\n",
    "print(\"Rows with at least one prime number:\\n\", result)"
   ]
  },
  {
   "cell_type": "markdown",
   "id": "99ca71d2-3380-4f25-ba83-14e7aed61407",
   "metadata": {},
   "source": [
    "__Let's Play Checkers__"
   ]
  },
  {
   "cell_type": "code",
   "execution_count": 24,
   "id": "72a46815-a79d-454f-94ab-0d514ce4fa1e",
   "metadata": {},
   "outputs": [
    {
     "name": "stdout",
     "output_type": "stream",
     "text": [
      "Checkerboard:\n",
      " [[1 0 1 0 1 0 1 0]\n",
      " [0 1 0 1 0 1 0 1]\n",
      " [1 0 1 0 1 0 1 0]\n",
      " [0 1 0 1 0 1 0 1]\n",
      " [1 0 1 0 1 0 1 0]\n",
      " [0 1 0 1 0 1 0 1]\n",
      " [1 0 1 0 1 0 1 0]\n",
      " [0 1 0 1 0 1 0 1]]\n"
     ]
    }
   ],
   "source": [
    "def checkerboard():\n",
    "    board = np.zeros((8, 8), dtype=int)\n",
    "    board[::2, ::2] = 1   # even rows, even columns\n",
    "    board[1::2, 1::2] = 1 # odd rows, odd columns\n",
    "    return board\n",
    "\n",
    "print(\"Checkerboard:\\n\", checkerboard())"
   ]
  },
  {
   "cell_type": "code",
   "execution_count": 25,
   "id": "a28985c5-73ca-41c0-96c5-1c15c54a71da",
   "metadata": {},
   "outputs": [
    {
     "name": "stdout",
     "output_type": "stream",
     "text": [
      "Reverse checkerboard:\n",
      " [[0 1 0 1 0 1 0 1]\n",
      " [1 0 1 0 1 0 1 0]\n",
      " [0 1 0 1 0 1 0 1]\n",
      " [1 0 1 0 1 0 1 0]\n",
      " [0 1 0 1 0 1 0 1]\n",
      " [1 0 1 0 1 0 1 0]\n",
      " [0 1 0 1 0 1 0 1]\n",
      " [1 0 1 0 1 0 1 0]]\n"
     ]
    }
   ],
   "source": [
    "def reverse_checkerboard():\n",
    "    board = np.zeros((8, 8), dtype=int)\n",
    "    board[::2, 1::2] = 1  # even rows, odd columns\n",
    "    board[1::2, ::2] = 1  # odd rows, even columns\n",
    "    return board\n",
    "\n",
    "print(\"Reverse checkerboard:\\n\", reverse_checkerboard())"
   ]
  },
  {
   "cell_type": "markdown",
   "id": "e1ba2fc1-2230-4dfd-a50c-b0301f4a38d3",
   "metadata": {},
   "source": [
    "__The Expanding Universe__"
   ]
  },
  {
   "cell_type": "code",
   "execution_count": 26,
   "id": "2a25d82f-542f-4a25-97c7-7827143d20f1",
   "metadata": {},
   "outputs": [
    {
     "name": "stdout",
     "output_type": "stream",
     "text": [
      "['g a l a x y', 'c l u s t e r s']\n",
      "['g  a  l  a  x  y', 'c  l  u  s  t  e  r  s']\n"
     ]
    }
   ],
   "source": [
    "def expansion(strings, n):\n",
    "    \"\"\"Return each string with n spaces between letters.\"\"\"\n",
    "    spaces = ' ' * n  # create the spacing\n",
    "    expanded = [spaces.join(ch) for ch in strings]\n",
    "    return expanded\n",
    "    \n",
    "universe = np.array(['galaxy', 'clusters'])\n",
    "print(expansion(universe, 1))\n",
    "print(expansion(universe, 2))"
   ]
  },
  {
   "cell_type": "markdown",
   "id": "3962ee01-cc03-4638-b382-c6604f0a51b6",
   "metadata": {},
   "source": [
    "__Second-Brightest Star__"
   ]
  },
  {
   "cell_type": "code",
   "execution_count": 27,
   "id": "db0c4908-920e-446a-938a-3a0efb07d3e8",
   "metadata": {},
   "outputs": [
    {
     "name": "stdout",
     "output_type": "stream",
     "text": [
      "Star clusters:\n",
      " [[1889 1906 1846 1622 1541]\n",
      " [ 606 1647 1738  596  613]\n",
      " [1138  547  573 1442  724]\n",
      " [ 611 1933 1863 1346 1777]\n",
      " [ 920 1108 1732 1592  951]]\n",
      "Second-brightest stars: [1889 1647 1138 1863 1592]\n"
     ]
    }
   ],
   "source": [
    "def secondDimmest(stars):\n",
    "    \"\"\"Return an array of the second-brightest (second-largest) value from each row.\"\"\"\n",
    "    sorted_rows = np.sort(stars, axis=1) \n",
    "    return sorted_rows[:, -2]  # second largest per row\n",
    "\n",
    "np.random.seed(123)\n",
    "stars = np.random.randint(500, 2000, (5, 5))\n",
    "print(\"Star clusters:\\n\", stars)\n",
    "print(\"Second-brightest stars:\", secondDimmest(stars))"
   ]
  },
  {
   "cell_type": "code",
   "execution_count": null,
   "id": "14aa0adf-5b78-4a77-b673-1f0777f4fcca",
   "metadata": {},
   "outputs": [],
   "source": []
  }
 ],
 "metadata": {
  "kernelspec": {
   "display_name": "Python 3 (ipykernel)",
   "language": "python",
   "name": "python3"
  },
  "language_info": {
   "codemirror_mode": {
    "name": "ipython",
    "version": 3
   },
   "file_extension": ".py",
   "mimetype": "text/x-python",
   "name": "python",
   "nbconvert_exporter": "python",
   "pygments_lexer": "ipython3",
   "version": "3.13.5"
  }
 },
 "nbformat": 4,
 "nbformat_minor": 5
}
